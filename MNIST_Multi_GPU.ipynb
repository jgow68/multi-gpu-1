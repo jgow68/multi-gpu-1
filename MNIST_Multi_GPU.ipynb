{
 "cells": [
  {
   "cell_type": "markdown",
   "metadata": {},
   "source": [
    "<h1> Part 3: Introduction </h1>\n",
    "\n",
    "<div> The goal of this lab is threefold:\n",
    "    <ul>\n",
    "        <li> To make minimal amount of changes to our existing code to implement multi GPU implementation.</li>\n",
    "        <li> Reiterate the basic principles involved in training of a neural network this time applied to a multi GPU example. </li>\n",
    "        <li> Illustrate how increasing the number of GPUs affects the batch size and the training process behavior</li>\n",
    "    </ul>\n",
    "</div>\n",
    "<br/>\n",
    "<div>As discussed in the lecture we will modify our neural network implementation by:\n",
    "<ul>\n",
    "<li>Making a copy of our model and pinning each to a different GPU</li>\n",
    "<li>Implementing a mechanism through which gradients computed by each of the copies can be averaged (which is the essence of the Data Parallel implementation of Stochastic Gradient Descent).</li>\n",
    "</ul>\n",
    "\n",
    "    \n",
    "<br/> This code example implements an approach referred to as in-graph replication. This means that we have just a single process and a single execution graph.  Parts of this execution graph (the same copies of the model) are distributed across multiple GPUs. In our case we have made further simplifications by forcing model parameters (so W and B) to be not only shared between the model copies but also hosted in the computer memory. In this case the host memory becomes our “Parameter Server”. This approach is the simplest implementation of the Model Parallelism possible in TensorFlow. In practice it is rarely used as it introduces significant load on both the PCIe bus as well as the rest of the host system. \n",
    "<br/><br/>\n",
    "<h3> A side note</h3>\n",
    "A much more common (and substantially more efficient approach) is referred to as between-graph replication. In this approach every copy of the graph is managed by a separate process and each of the processes will have its own TensorFlow session and full copy of both the graph and model parameters. The communication between GPUs can be handled in a unique way, either through the TensorFlow communication mechanism or preferably using the NVIDIA Collective Communication Library (NCCL). NCCL is a very efficient library that allows multiple GPU, within the same system (using NVLINK) or within the same network to exchange the content of their memory directly without engaging the CPU or other computer resources. We will discuss the challenges involved in exchanging parameters as well as a substantially more efficient approach in more detail in Lecture and Lab 2 which discusses engineering challenges of scale.\n",
    "</div>\n",
    "\n",
    "<h1> Code review </h1>\n",
    "<div> Lets step through the code together and discuss changes we have made to the neural network implemented in the previous lab.   </div>\n"
   ]
  },
  {
   "cell_type": "code",
   "execution_count": 1,
   "metadata": {},
   "outputs": [
    {
     "name": "stdout",
     "output_type": "stream",
     "text": [
      "Extracting /tmp/data/train-images-idx3-ubyte.gz\n",
      "Extracting /tmp/data/train-labels-idx1-ubyte.gz\n",
      "Extracting /tmp/data/t10k-images-idx3-ubyte.gz\n",
      "Extracting /tmp/data/t10k-labels-idx1-ubyte.gz\n"
     ]
    }
   ],
   "source": [
    "import logging\n",
    "# Suppress any unnecessary messages to make the output cleaner\n",
    "logging.getLogger('tensorflow').disabled = True\n",
    "\n",
    "import tensorflow as tf\n",
    "import matplotlib.pyplot as plt\n",
    "\n",
    "# Import MNIST data\n",
    "from tensorflow.examples.tutorials.mnist import input_data\n",
    "mnist = input_data.read_data_sets(\"/tmp/data/\", one_hot=True)"
   ]
  },
  {
   "cell_type": "markdown",
   "metadata": {},
   "source": [
    "<div>We will use this variable to decide how many GPUs we want to assign to this process. Bear in mind that this virtual machine has finite amount of resources.</div>"
   ]
  },
  {
   "cell_type": "code",
   "execution_count": 2,
   "metadata": {},
   "outputs": [],
   "source": [
    "# We define how many GPUs we want to use\n",
    "num_gpus = 4"
   ]
  },
  {
   "cell_type": "markdown",
   "metadata": {},
   "source": [
    "<div>Once again we define the hyperparameters of our model and the learning process</div>"
   ]
  },
  {
   "cell_type": "code",
   "execution_count": 3,
   "metadata": {},
   "outputs": [],
   "source": [
    "# Parameters\n",
    "learning_rate = 0.1\n",
    "num_steps = 5000\n",
    "batch_size = 128\n",
    "display_step = 100\n",
    "\n",
    "# Network Parameters\n",
    "n_hidden_1 = 256 # 1st layer number of neurons\n",
    "n_hidden_2 = 256 # 2nd layer number of neurons\n",
    "num_input = 784 # MNIST data input (img shape: 28*28)\n",
    "num_classes = 10 # MNIST total classes (0-9 digits)"
   ]
  },
  {
   "cell_type": "markdown",
   "metadata": {},
   "source": [
    "<div>Since we will have more than one device working on our problem we need to implement a mechanism to keep track of the progress</div>"
   ]
  },
  {
   "cell_type": "code",
   "execution_count": 4,
   "metadata": {},
   "outputs": [],
   "source": [
    "# Create a variable to count the number of train() calls. This equals the\n",
    "# number of batches processed * FLAGS.num_gpus.\n",
    "global_step = tf.get_variable(\n",
    "    'global_step', [],\n",
    "    initializer=tf.constant_initializer(0), trainable=False)"
   ]
  },
  {
   "cell_type": "markdown",
   "metadata": {},
   "source": [
    "<div>Since we will be creating multiple copies of the model it makes sense to define our model in a function that can be called multiple times (once per GPU). Since we will be sharing model parameters between the copies of the model we do not define W and B here but we pass them as the parameters of our function. By convention a copy of a model deployed on a GPU is referred to as Tower (because our models are very deep/tall and the resulting graph resembles multiple towers).</div>"
   ]
  },
  {
   "cell_type": "code",
   "execution_count": 5,
   "metadata": {},
   "outputs": [],
   "source": [
    "# Since every GPU will receive a copy of the same model (tower) we will define a function for model creation\n",
    "# which will help us deploy it across the devices\n",
    "def tower(W,B):\n",
    "    # Create the placeholders for the data to be used in TensorFlow\n",
    "    X = tf.placeholder(\"float\", [None, num_input], name=\"X\")\n",
    "    Y = tf.placeholder(\"float\", [None, num_classes], name=\"Y\")\n",
    "    \n",
    "    # Hidden fully connected layer with 256 neurons\n",
    "    layer_1 = tf.add(tf.matmul(X, W['h1']), B['b1'])\n",
    "    # Hidden fully connected layer with 256 neurons\n",
    "    layer_2 = tf.add(tf.matmul(layer_1, W['h2']), B['b2'])\n",
    "    # Output fully connected layer with a neuron for each class\n",
    "    out_layer = tf.matmul(layer_2, W['out']) + B['out']\n",
    "\n",
    "    # And a softmax to give us the actual prediction\n",
    "    prediction = tf.nn.softmax(out_layer)\n",
    "    \n",
    "    correct_pred = tf.equal(tf.argmax(prediction, 1), tf.argmax(Y, 1))\n",
    "    accuracy = tf.reduce_mean(tf.cast(correct_pred, tf.float32), name = 'accuracy')\n",
    "\n",
    "    # Define loss and optimizer\n",
    "    loss = tf.reduce_mean(tf.nn.softmax_cross_entropy_with_logits(\n",
    "        logits=out_layer, labels=Y), name = 'loss')\n",
    "    \n",
    "    return loss, accuracy"
   ]
  },
  {
   "cell_type": "code",
   "execution_count": 6,
   "metadata": {},
   "outputs": [],
   "source": [
    "# Once again we use the Adam optimiser\n",
    "optimizer = tf.train.AdamOptimizer(learning_rate=learning_rate)"
   ]
  },
  {
   "cell_type": "markdown",
   "metadata": {},
   "source": [
    "<div>In this section we define shared model parameters. We then iterate over our GPUs and create a copy of our model on every device.</div>"
   ]
  },
  {
   "cell_type": "code",
   "execution_count": 7,
   "metadata": {},
   "outputs": [],
   "source": [
    "tower_grads = []\n",
    "loss_arr = []\n",
    "acc_arr = []\n",
    "\n",
    "# We create a shared copy of the model parameters in the host memory (we are not enforcing GPU placement)\n",
    "with tf.variable_scope(\"sharedParameters\",reuse=True) as scope:\n",
    "    W = {\n",
    "        'h1': tf.Variable(tf.random_normal([num_input, n_hidden_1])),\n",
    "        'h2': tf.Variable(tf.random_normal([n_hidden_1, n_hidden_2])),\n",
    "        'out': tf.Variable(tf.random_normal([n_hidden_2, num_classes]))\n",
    "    }\n",
    "    B = {\n",
    "        'b1': tf.Variable(tf.random_normal([n_hidden_1])),\n",
    "        'b2': tf.Variable(tf.random_normal([n_hidden_2])),\n",
    "        'out': tf.Variable(tf.random_normal([num_classes]))\n",
    "    }\n",
    "    \n",
    "for i in range(num_gpus):\n",
    "    with tf.device('/device:GPU:%d' % i):\n",
    "        scopeName = '%s_%d' % (\"tower\", i)\n",
    "        with tf.variable_scope(scopeName,reuse=True) as scope:\n",
    "            # We create a copy of our model for every GPU and prefix all of the parameters\n",
    "            # with a scope indicating GPU placement (tower_0, tower_1, etc.).\n",
    "            loss, accuracy = tower(W,B)\n",
    "            loss_arr.append(loss)\n",
    "            acc_arr.append(accuracy)\n",
    "            # We want to calculate the gradient of the loss with respect to all variables\n",
    "            # but only the variables in this scope (so in this tower)\n",
    "            grads = optimizer.compute_gradients(loss)#,\n",
    "                                                #var_list=tf.get_collection(tf.GraphKeys.GLOBAL_VARIABLES, scope=scopeName))\n",
    "            \n",
    "            # We store all of the calculated gradients for all towers in an array so they can be aggregated\n",
    "            tower_grads.append(grads)"
   ]
  },
  {
   "cell_type": "code",
   "execution_count": 8,
   "metadata": {},
   "outputs": [],
   "source": [
    "# Once again we define variables that will allow us to monitor our training process.\n",
    "total_loss = tf.reduce_mean(loss_arr)\n",
    "total_acc = tf.reduce_mean(accuracy)"
   ]
  },
  {
   "cell_type": "markdown",
   "metadata": {},
   "source": [
    "<div>Since now we have multiple copies of the model and every copy will be exposed to a different mini batch they will produce different values for the gradient. In this section we take those different results and average them. This effectively is equivalent to doubling our batch size. Through the averaging process we reduce the amount of noise in the gradient calculation. </div>"
   ]
  },
  {
   "cell_type": "code",
   "execution_count": 19,
   "metadata": {},
   "outputs": [
    {
     "data": {
      "text/plain": [
       "[(<tf.Tensor 'Mean_2:0' shape=(784, 256) dtype=float32>,\n",
       "  <tf.Variable 'sharedParameters/Variable:0' shape=(784, 256) dtype=float32_ref>),\n",
       " (<tf.Tensor 'Mean_3:0' shape=(256, 256) dtype=float32>,\n",
       "  <tf.Variable 'sharedParameters/Variable_1:0' shape=(256, 256) dtype=float32_ref>),\n",
       " (<tf.Tensor 'Mean_4:0' shape=(256, 10) dtype=float32>,\n",
       "  <tf.Variable 'sharedParameters/Variable_2:0' shape=(256, 10) dtype=float32_ref>),\n",
       " (<tf.Tensor 'Mean_5:0' shape=(256,) dtype=float32>,\n",
       "  <tf.Variable 'sharedParameters/Variable_3:0' shape=(256,) dtype=float32_ref>),\n",
       " (<tf.Tensor 'Mean_6:0' shape=(256,) dtype=float32>,\n",
       "  <tf.Variable 'sharedParameters/Variable_4:0' shape=(256,) dtype=float32_ref>),\n",
       " (<tf.Tensor 'Mean_7:0' shape=(10,) dtype=float32>,\n",
       "  <tf.Variable 'sharedParameters/Variable_5:0' shape=(10,) dtype=float32_ref>)]"
      ]
     },
     "execution_count": 19,
     "metadata": {},
     "output_type": "execute_result"
    }
   ],
   "source": [
    "grads"
   ]
  },
  {
   "cell_type": "code",
   "execution_count": 18,
   "metadata": {},
   "outputs": [
    {
     "data": {
      "text/plain": [
       "[[(<tf.Tensor 'tower_0/gradients/tower_0/MatMul_grad/tuple/control_dependency_1:0' shape=(784, 256) dtype=float32>,\n",
       "   <tf.Variable 'sharedParameters/Variable:0' shape=(784, 256) dtype=float32_ref>),\n",
       "  (<tf.Tensor 'tower_0/gradients/tower_0/MatMul_1_grad/tuple/control_dependency_1:0' shape=(256, 256) dtype=float32>,\n",
       "   <tf.Variable 'sharedParameters/Variable_1:0' shape=(256, 256) dtype=float32_ref>),\n",
       "  (<tf.Tensor 'tower_0/gradients/tower_0/MatMul_2_grad/tuple/control_dependency_1:0' shape=(256, 10) dtype=float32>,\n",
       "   <tf.Variable 'sharedParameters/Variable_2:0' shape=(256, 10) dtype=float32_ref>),\n",
       "  (<tf.Tensor 'tower_0/gradients/tower_0/Add_grad/tuple/control_dependency_1:0' shape=(256,) dtype=float32>,\n",
       "   <tf.Variable 'sharedParameters/Variable_3:0' shape=(256,) dtype=float32_ref>),\n",
       "  (<tf.Tensor 'tower_0/gradients/tower_0/Add_1_grad/tuple/control_dependency_1:0' shape=(256,) dtype=float32>,\n",
       "   <tf.Variable 'sharedParameters/Variable_4:0' shape=(256,) dtype=float32_ref>),\n",
       "  (<tf.Tensor 'tower_0/gradients/tower_0/add_grad/tuple/control_dependency_1:0' shape=(10,) dtype=float32>,\n",
       "   <tf.Variable 'sharedParameters/Variable_5:0' shape=(10,) dtype=float32_ref>)],\n",
       " [(<tf.Tensor 'tower_1/gradients/tower_1/MatMul_grad/tuple/control_dependency_1:0' shape=(784, 256) dtype=float32>,\n",
       "   <tf.Variable 'sharedParameters/Variable:0' shape=(784, 256) dtype=float32_ref>),\n",
       "  (<tf.Tensor 'tower_1/gradients/tower_1/MatMul_1_grad/tuple/control_dependency_1:0' shape=(256, 256) dtype=float32>,\n",
       "   <tf.Variable 'sharedParameters/Variable_1:0' shape=(256, 256) dtype=float32_ref>),\n",
       "  (<tf.Tensor 'tower_1/gradients/tower_1/MatMul_2_grad/tuple/control_dependency_1:0' shape=(256, 10) dtype=float32>,\n",
       "   <tf.Variable 'sharedParameters/Variable_2:0' shape=(256, 10) dtype=float32_ref>),\n",
       "  (<tf.Tensor 'tower_1/gradients/tower_1/Add_grad/tuple/control_dependency_1:0' shape=(256,) dtype=float32>,\n",
       "   <tf.Variable 'sharedParameters/Variable_3:0' shape=(256,) dtype=float32_ref>),\n",
       "  (<tf.Tensor 'tower_1/gradients/tower_1/Add_1_grad/tuple/control_dependency_1:0' shape=(256,) dtype=float32>,\n",
       "   <tf.Variable 'sharedParameters/Variable_4:0' shape=(256,) dtype=float32_ref>),\n",
       "  (<tf.Tensor 'tower_1/gradients/tower_1/add_grad/tuple/control_dependency_1:0' shape=(10,) dtype=float32>,\n",
       "   <tf.Variable 'sharedParameters/Variable_5:0' shape=(10,) dtype=float32_ref>)],\n",
       " [(<tf.Tensor 'tower_2/gradients/tower_2/MatMul_grad/tuple/control_dependency_1:0' shape=(784, 256) dtype=float32>,\n",
       "   <tf.Variable 'sharedParameters/Variable:0' shape=(784, 256) dtype=float32_ref>),\n",
       "  (<tf.Tensor 'tower_2/gradients/tower_2/MatMul_1_grad/tuple/control_dependency_1:0' shape=(256, 256) dtype=float32>,\n",
       "   <tf.Variable 'sharedParameters/Variable_1:0' shape=(256, 256) dtype=float32_ref>),\n",
       "  (<tf.Tensor 'tower_2/gradients/tower_2/MatMul_2_grad/tuple/control_dependency_1:0' shape=(256, 10) dtype=float32>,\n",
       "   <tf.Variable 'sharedParameters/Variable_2:0' shape=(256, 10) dtype=float32_ref>),\n",
       "  (<tf.Tensor 'tower_2/gradients/tower_2/Add_grad/tuple/control_dependency_1:0' shape=(256,) dtype=float32>,\n",
       "   <tf.Variable 'sharedParameters/Variable_3:0' shape=(256,) dtype=float32_ref>),\n",
       "  (<tf.Tensor 'tower_2/gradients/tower_2/Add_1_grad/tuple/control_dependency_1:0' shape=(256,) dtype=float32>,\n",
       "   <tf.Variable 'sharedParameters/Variable_4:0' shape=(256,) dtype=float32_ref>),\n",
       "  (<tf.Tensor 'tower_2/gradients/tower_2/add_grad/tuple/control_dependency_1:0' shape=(10,) dtype=float32>,\n",
       "   <tf.Variable 'sharedParameters/Variable_5:0' shape=(10,) dtype=float32_ref>)],\n",
       " [(<tf.Tensor 'tower_3/gradients/tower_3/MatMul_grad/tuple/control_dependency_1:0' shape=(784, 256) dtype=float32>,\n",
       "   <tf.Variable 'sharedParameters/Variable:0' shape=(784, 256) dtype=float32_ref>),\n",
       "  (<tf.Tensor 'tower_3/gradients/tower_3/MatMul_1_grad/tuple/control_dependency_1:0' shape=(256, 256) dtype=float32>,\n",
       "   <tf.Variable 'sharedParameters/Variable_1:0' shape=(256, 256) dtype=float32_ref>),\n",
       "  (<tf.Tensor 'tower_3/gradients/tower_3/MatMul_2_grad/tuple/control_dependency_1:0' shape=(256, 10) dtype=float32>,\n",
       "   <tf.Variable 'sharedParameters/Variable_2:0' shape=(256, 10) dtype=float32_ref>),\n",
       "  (<tf.Tensor 'tower_3/gradients/tower_3/Add_grad/tuple/control_dependency_1:0' shape=(256,) dtype=float32>,\n",
       "   <tf.Variable 'sharedParameters/Variable_3:0' shape=(256,) dtype=float32_ref>),\n",
       "  (<tf.Tensor 'tower_3/gradients/tower_3/Add_1_grad/tuple/control_dependency_1:0' shape=(256,) dtype=float32>,\n",
       "   <tf.Variable 'sharedParameters/Variable_4:0' shape=(256,) dtype=float32_ref>),\n",
       "  (<tf.Tensor 'tower_3/gradients/tower_3/add_grad/tuple/control_dependency_1:0' shape=(10,) dtype=float32>,\n",
       "   <tf.Variable 'sharedParameters/Variable_5:0' shape=(10,) dtype=float32_ref>)]]"
      ]
     },
     "execution_count": 18,
     "metadata": {},
     "output_type": "execute_result"
    }
   ],
   "source": [
    "tower_grads"
   ]
  },
  {
   "cell_type": "code",
   "execution_count": 9,
   "metadata": {},
   "outputs": [],
   "source": [
    "def average_gradients(tower_grads):\n",
    "    \"\"\"Calculate the average gradient for each shared variable across all towers.\n",
    "    Note that this function provides a synchronization point across all towers.\n",
    "        Args:\n",
    "        tower_grads: List of lists of (gradient, variable) tuples. The outer list\n",
    "                is over individual gradients. The inner list is over the gradient\n",
    "                calculation for each tower.\n",
    "        Returns:\n",
    "        List of pairs of (gradient, variable) where the gradient has been averaged\n",
    "        across all towers.\n",
    "    \"\"\"\n",
    "    \n",
    "    average_grads = []\n",
    "    \n",
    "    for grad_and_vars in zip(*tower_grads):\n",
    "        # Note that each grad_and_vars looks like the following:\n",
    "        #   ((grad0_gpu0, var0_gpu0), ... , (grad0_gpuN, var0_gpuN))\n",
    "        grads = []\n",
    "        for g, _ in grad_and_vars:\n",
    "            # Add 0 dimension to the gradients to represent the tower.\n",
    "            expanded_g = tf.expand_dims(g, 0)\n",
    "            # Append on a 'tower' dimension which we will average over below.\n",
    "            grads.append(expanded_g)\n",
    "\n",
    "        # Average over the 'tower' dimension.\n",
    "        grad = tf.concat(grads,0)\n",
    "        grad = tf.reduce_mean(grad, 0)\n",
    "\n",
    "        # Keep in mind that the Variables are redundant because they are shared\n",
    "        # across towers. So .. we will just return the first tower's pointer to\n",
    "        # the Variable.\n",
    "        v = grad_and_vars[0][1]\n",
    "        grad_and_var = (grad, v)\n",
    "        average_grads.append(grad_and_var)\n",
    "    return average_grads"
   ]
  },
  {
   "cell_type": "code",
   "execution_count": 10,
   "metadata": {},
   "outputs": [],
   "source": [
    "# We must calculate the mean of each gradient. Note that this is the\n",
    "# synchronization point across all towers.\n",
    "grads = average_gradients(tower_grads)"
   ]
  },
  {
   "cell_type": "markdown",
   "metadata": {},
   "source": [
    "<div>Now that we have an averaged gradient we use it to execute the optimisation step.</div>"
   ]
  },
  {
   "cell_type": "code",
   "execution_count": 11,
   "metadata": {},
   "outputs": [],
   "source": [
    "train_op = optimizer.apply_gradients(grads, global_step=global_step)"
   ]
  },
  {
   "cell_type": "markdown",
   "metadata": {},
   "source": [
    "<div>This is just a helper function that prepares the minibatch.</div>"
   ]
  },
  {
   "cell_type": "code",
   "execution_count": 12,
   "metadata": {},
   "outputs": [],
   "source": [
    "def getFeedDict(num_gpus, batch_size):\n",
    "    feed_dict = {}\n",
    "    for i in range(num_gpus):\n",
    "        batch_x, batch_y = mnist.train.next_batch(batch_size)\n",
    "        scopeName = '%s_%d' % (\"tower\", i)\n",
    "        feed_dict[scopeName+ \"/X:0\"] = batch_x\n",
    "        feed_dict[scopeName+ \"/Y:0\"] = batch_y\n",
    "    return feed_dict"
   ]
  },
  {
   "cell_type": "code",
   "execution_count": 13,
   "metadata": {},
   "outputs": [],
   "source": [
    "loss_array = []"
   ]
  },
  {
   "cell_type": "markdown",
   "metadata": {},
   "source": [
    "<div>Now that we have defined the model, implemented gradient averaging and prepared the data for the multi gpu training the rest of the process is fairly identical to what we saw in the previous exercise.</div>"
   ]
  },
  {
   "cell_type": "code",
   "execution_count": 14,
   "metadata": {},
   "outputs": [
    {
     "name": "stdout",
     "output_type": "stream",
     "text": [
      "Step 1, Minibatch Loss= 7277.1758, Accuracy= 0.5625\n",
      "Step 100, Minibatch Loss= 130.6741, Accuracy= 0.8906\n",
      "Step 200, Minibatch Loss= 66.4323, Accuracy= 0.8828\n",
      "Step 300, Minibatch Loss= 31.8328, Accuracy= 0.9375\n",
      "Step 400, Minibatch Loss= 30.2908, Accuracy= 0.8750\n",
      "Step 500, Minibatch Loss= 26.9680, Accuracy= 0.8906\n",
      "Step 600, Minibatch Loss= 24.2311, Accuracy= 0.9062\n",
      "Step 700, Minibatch Loss= 18.6471, Accuracy= 0.8594\n",
      "Step 800, Minibatch Loss= 13.9185, Accuracy= 0.8906\n",
      "Step 900, Minibatch Loss= 10.2085, Accuracy= 0.9141\n",
      "Step 1000, Minibatch Loss= 9.6815, Accuracy= 0.9062\n",
      "Step 1100, Minibatch Loss= 11.6505, Accuracy= 0.8906\n",
      "Step 1200, Minibatch Loss= 7.5206, Accuracy= 0.9141\n",
      "Step 1300, Minibatch Loss= 8.3156, Accuracy= 0.8750\n",
      "Step 1400, Minibatch Loss= 9.4502, Accuracy= 0.8672\n",
      "Step 1500, Minibatch Loss= 8.7125, Accuracy= 0.8906\n",
      "Step 1600, Minibatch Loss= 8.1995, Accuracy= 0.9531\n",
      "Step 1700, Minibatch Loss= 9.1531, Accuracy= 0.9219\n",
      "Step 1800, Minibatch Loss= 10.5440, Accuracy= 0.8438\n",
      "Step 1900, Minibatch Loss= 8.8646, Accuracy= 0.9062\n",
      "Step 2000, Minibatch Loss= 10.4892, Accuracy= 0.8516\n",
      "Step 2100, Minibatch Loss= 10.0170, Accuracy= 0.8672\n",
      "Step 2200, Minibatch Loss= 14.0702, Accuracy= 0.8906\n",
      "Step 2300, Minibatch Loss= 12.8275, Accuracy= 0.8672\n",
      "Step 2400, Minibatch Loss= 10.5840, Accuracy= 0.8984\n",
      "Step 2500, Minibatch Loss= 19.9100, Accuracy= 0.8672\n",
      "Step 2600, Minibatch Loss= 7.6211, Accuracy= 0.9375\n",
      "Step 2700, Minibatch Loss= 10.8090, Accuracy= 0.8672\n",
      "Step 2800, Minibatch Loss= 7.8297, Accuracy= 0.8828\n",
      "Step 2900, Minibatch Loss= 12.4964, Accuracy= 0.8438\n",
      "Step 3000, Minibatch Loss= 8.5424, Accuracy= 0.8594\n",
      "Step 3100, Minibatch Loss= 6.6567, Accuracy= 0.8281\n",
      "Step 3200, Minibatch Loss= 10.4232, Accuracy= 0.8516\n",
      "Step 3300, Minibatch Loss= 15.7047, Accuracy= 0.8750\n",
      "Step 3400, Minibatch Loss= 14.9815, Accuracy= 0.8906\n",
      "Step 3500, Minibatch Loss= 7.5237, Accuracy= 0.8672\n",
      "Step 3600, Minibatch Loss= 5.6792, Accuracy= 0.9219\n",
      "Step 3700, Minibatch Loss= 4.6288, Accuracy= 0.8906\n",
      "Step 3800, Minibatch Loss= 4.1845, Accuracy= 0.8594\n",
      "Step 3900, Minibatch Loss= 5.8441, Accuracy= 0.8516\n",
      "Step 4000, Minibatch Loss= 4.1495, Accuracy= 0.9062\n",
      "Step 4100, Minibatch Loss= 5.0353, Accuracy= 0.8516\n",
      "Step 4200, Minibatch Loss= 3.4307, Accuracy= 0.9219\n",
      "Step 4300, Minibatch Loss= 3.4907, Accuracy= 0.8750\n",
      "Step 4400, Minibatch Loss= 4.4765, Accuracy= 0.7969\n",
      "Step 4500, Minibatch Loss= 2.2381, Accuracy= 0.8594\n",
      "Step 4600, Minibatch Loss= 1.8552, Accuracy= 0.8906\n",
      "Step 4700, Minibatch Loss= 1.6396, Accuracy= 0.9062\n",
      "Step 4800, Minibatch Loss= 1.6055, Accuracy= 0.8359\n",
      "Step 4900, Minibatch Loss= 1.5482, Accuracy= 0.8828\n",
      "Step 5000, Minibatch Loss= 1.6673, Accuracy= 0.8828\n",
      "Training Finished!\n"
     ]
    }
   ],
   "source": [
    "# Start training\n",
    "with tf.Session() as sess:\n",
    "\n",
    "    # We initialize the necessary variables.\n",
    "    sess.run(tf.global_variables_initializer())\n",
    "\n",
    "    for step in range(1, num_steps+1):\n",
    "        # Run optimization op (backprop)\n",
    "        feed_dict_val = getFeedDict(num_gpus, batch_size)\n",
    "        sess.run(train_op, feed_dict = feed_dict_val)\n",
    "        \n",
    "        # Calculate batch loss and accuracy\n",
    "        loss_val = sess.run(total_loss, feed_dict=feed_dict_val)\n",
    "        acc_val = sess.run(total_acc, feed_dict=feed_dict_val)\n",
    "        loss_array.append(loss_val)\n",
    "            \n",
    "        if step % display_step == 0 or step == 1:\n",
    "            print(\"Step \" + str(step) + \", Minibatch Loss= \" + \\\n",
    "                  \"{:.4f}\".format(loss_val) + \", Accuracy= \" + \"{:.4f}\".format(acc_val))\n",
    "            \n",
    "    print(\"Training Finished!\")"
   ]
  },
  {
   "cell_type": "markdown",
   "metadata": {},
   "source": [
    "<div>Now compare the shape of the below curve with the one we have produced in the previous exercise at the same batch size per GPU - 128</div>"
   ]
  },
  {
   "cell_type": "code",
   "execution_count": 15,
   "metadata": {},
   "outputs": [
    {
     "data": {
      "image/png": "[encoded data removed]",
      "text/plain": [
       "<Figure size 432x288 with 1 Axes>"
      ]
     },
     "metadata": {
      "needs_background": "light"
     },
     "output_type": "display_data"
    }
   ],
   "source": [
    "plt.plot(loss_array)\n",
    "plt.show()"
   ]
  }
 ],
 "metadata": {
  "kernelspec": {
   "display_name": "Python 3",
   "language": "python",
   "name": "python3"
  },
  "language_info": {
   "codemirror_mode": {
    "name": "ipython",
    "version": 3
   },
   "file_extension": ".py",
   "mimetype": "text/x-python",
   "name": "python",
   "nbconvert_exporter": "python",
   "pygments_lexer": "ipython3",
   "version": "3.6.7"
  }
 },
 "nbformat": 4,
 "nbformat_minor": 2
}
